{
 "cells": [
  {
   "cell_type": "code",
   "execution_count": 23,
   "id": "99f9cbc1",
   "metadata": {},
   "outputs": [],
   "source": [
    "import math\n",
    "import os\n",
    "from skimage import io\n",
    "import numpy as np\n",
    "\n",
    "# mat = io.imread(\"/home/zhizizhang/Documents/Mask_RCNN/gisdata/JingDeZhen_11/JingDeZhen_11_result_dom.tif\")\n",
    "mat = io.imread(\"/home/zhizizhang/Documents/Mask_RCNN/gisdata/20210723_JingDeZhen_02_waibao_shp/JingDeZhen_02_result_dom.tif\")\n"
   ]
  },
  {
   "cell_type": "code",
   "execution_count": 24,
   "id": "bca68409",
   "metadata": {},
   "outputs": [],
   "source": [
    "segShape =(1000,2000)\n",
    "imgShape = mat.shape\n",
    "\n",
    "output_DIR = './../../datasets/segBuildings/'\n",
    "\n",
    "os.makedirs(output_DIR+'/test/', exist_ok=True)\n",
    "\n",
    "rowStep = 2000\n",
    "colStep = 2000\n",
    "\n",
    "for row in range(0,imgShape[0],rowStep):\n",
    "    \n",
    "    for col in range(0,imgShape[1],colStep):\n",
    "        \n",
    "        rowEnd = row + segShape[0] if row + segShape[0] <= imgShape[0] else imgShape[0] \n",
    "        colEnd = col + segShape[1] if col + segShape[1] <= imgShape[1] else imgShape[1]\n",
    "        \n",
    "        pic=mat[row:rowEnd,col:colEnd,:]\n",
    "        \n",
    "#         print(np.count_nonzero(pic),\"vs\",segShape[0]*segShape[1]*3)\n",
    "        \n",
    "        if np.count_nonzero(pic) > segShape[0]*segShape[1]*3*0.9:\n",
    "            io.imsave(output_DIR+'/test/'+str(row)+'_'+str(col)+'_'+str(rowEnd)+'_'+str(colEnd)+'.jpg',pic)\n",
    "        \n",
    "        \n"
   ]
  },
  {
   "cell_type": "code",
   "execution_count": null,
   "id": "44649e2c",
   "metadata": {},
   "outputs": [],
   "source": []
  }
 ],
 "metadata": {
  "kernelspec": {
   "display_name": "Python [conda env:mask]",
   "language": "python",
   "name": "conda-env-mask-py"
  },
  "language_info": {
   "codemirror_mode": {
    "name": "ipython",
    "version": 3
   },
   "file_extension": ".py",
   "mimetype": "text/x-python",
   "name": "python",
   "nbconvert_exporter": "python",
   "pygments_lexer": "ipython3",
   "version": "3.6.13"
  }
 },
 "nbformat": 4,
 "nbformat_minor": 5
}
