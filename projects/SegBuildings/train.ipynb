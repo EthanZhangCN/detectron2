{
 "cells": [
  {
   "cell_type": "code",
   "execution_count": 1,
   "id": "61975d2a",
   "metadata": {},
   "outputs": [],
   "source": [
    "import detectron2\n",
    "from detectron2.utils.logger import setup_logger\n",
    "setup_logger()\n",
    "\n",
    "# import some common libraries\n",
    "import numpy as np\n",
    "import os, json, cv2, random\n",
    "# from google.colab.patches import cv2_imshow\n",
    "\n",
    "# import some common detectron2 utilities\n",
    "from detectron2 import model_zoo\n",
    "from detectron2.engine import DefaultPredictor\n",
    "from detectron2.config import get_cfg\n",
    "from detectron2.utils.visualizer import Visualizer\n",
    "from detectron2.data import MetadataCatalog, DatasetCatalog\n",
    "\n",
    "regist=False"
   ]
  },
  {
   "cell_type": "code",
   "execution_count": 2,
   "id": "8f8575f2",
   "metadata": {},
   "outputs": [],
   "source": [
    "\n",
    "from detectron2.structures import BoxMode\n",
    "\n",
    "datasets_path=\"../../datasets/segBuildings/\"\n",
    "\n",
    "def get_buildings_dicts(img_dir):\n",
    "    json_file = os.path.join(img_dir, \"annotation_train.json\")\n",
    "    with open(json_file) as f:\n",
    "        imgs_anns = json.load(f)\n",
    "\n",
    "    dataset_dicts = []\n",
    "    for idx, v in enumerate(imgs_anns['features']):\n",
    "\n",
    "        if (v['geometry']==None):\n",
    "            continue\n",
    "\n",
    "        record = {}\n",
    "\n",
    "        filename = os.path.join(img_dir, v[\"img\"])\n",
    "\n",
    "        height, width = cv2.imread(filename).shape[:2]\n",
    "\n",
    "        record[\"file_name\"] = filename\n",
    "        record[\"image_id\"] = idx\n",
    "        record[\"height\"] = height\n",
    "        record[\"width\"] = width\n",
    "\n",
    "        annos = v[\"geometry\"]['coordinates']\n",
    "        objs = []\n",
    "    #     print(annos)\n",
    "    #     break\n",
    "        for anno in annos:\n",
    "            (minX,maxY) = (min(anno,key=lambda tup:tup[0])[0],max(anno,key=lambda tup:tup[1])[1])\n",
    "            (maxX,minY) = (max(anno,key=lambda tup:tup[0])[0],min(anno,key=lambda tup:tup[1])[1])\n",
    "            poly = [p for x in anno for p in x]\n",
    "            obj = {\n",
    "                \"bbox\": [minX, minY, maxX, maxY],\n",
    "                \"bbox_mode\": BoxMode.XYXY_ABS,\n",
    "                \"segmentation\": [poly],\n",
    "                \"category_id\": 0,\n",
    "            }\n",
    "            objs.append(obj)\n",
    "        record[\"annotations\"] = objs\n",
    "        dataset_dicts.append(record)\n",
    "    return dataset_dicts\n",
    "\n"
   ]
  },
  {
   "cell_type": "code",
   "execution_count": 3,
   "id": "823b2fc1",
   "metadata": {},
   "outputs": [],
   "source": [
    "if not regist:\n",
    "    for d in [\"train\", \"val\"]:\n",
    "        DatasetCatalog.register(\"segBuildings_\" + d, lambda d=d: get_buildings_dicts(datasets_path + d))\n",
    "        regist=True\n",
    "\n",
    "dic =get_buildings_dicts(datasets_path + 'train')\n",
    "\n",
    "segBuildings_metadata = MetadataCatalog.get(\"segBuildings__train\")\n"
   ]
  },
  {
   "cell_type": "code",
   "execution_count": 4,
   "id": "c817296b",
   "metadata": {},
   "outputs": [],
   "source": [
    "## show img\n",
    "dataset_dicts = get_buildings_dicts(datasets_path+\"/train/\")\n",
    "for d in random.sample(dataset_dicts, 3):\n",
    "    img = cv2.imread(d[\"file_name\"])\n",
    "    visualizer = Visualizer(img[:, :, ::-1], metadata=segBuildings_metadata, scale=0.5)\n",
    "    out = visualizer.draw_dataset_dict(d)\n",
    "    cv2.imshow(\"trian im\",out.get_image()[:, :, ::-1])\n",
    "    cv2.waitKey(0)\n",
    "\n",
    "cv2.waitKey()\n",
    "cv2.destroyAllWindows()"
   ]
  },
  {
   "cell_type": "code",
   "execution_count": null,
   "id": "8b1edeeb",
   "metadata": {},
   "outputs": [],
   "source": []
  }
 ],
 "metadata": {
  "kernelspec": {
   "display_name": "Python [conda env:detec]",
   "language": "python",
   "name": "conda-env-detec-py"
  },
  "language_info": {
   "codemirror_mode": {
    "name": "ipython",
    "version": 3
   },
   "file_extension": ".py",
   "mimetype": "text/x-python",
   "name": "python",
   "nbconvert_exporter": "python",
   "pygments_lexer": "ipython3",
   "version": "3.6.13"
  }
 },
 "nbformat": 4,
 "nbformat_minor": 5
}
