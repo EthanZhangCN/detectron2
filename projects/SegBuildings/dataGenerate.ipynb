{
 "cells": [
  {
   "cell_type": "code",
   "execution_count": 208,
   "id": "32eb947c",
   "metadata": {},
   "outputs": [],
   "source": [
    "from skimage import io\n",
    "# mat = io.imread(\"/home/zhizizhang/Documents/Mask_RCNN/gisdata/JingDeZhen_11/JingDeZhen_11_result_dom.tif\")\n",
    "mat = io.imread(\"/home/zhizizhang/Documents/Mask_RCNN/gisdata/20210723_JingDeZhen_02_waibao_shp/JingDeZhen_02_result_dom.tif\")\n"
   ]
  },
  {
   "cell_type": "code",
   "execution_count": 209,
   "id": "4d35713e",
   "metadata": {},
   "outputs": [],
   "source": [
    "import geopandas as gpd\n",
    "from matplotlib import pyplot as plt\n",
    "\n",
    "# sh_file = \"/home/zhizizhang/Documents/Mask_RCNN/gisdata/JingDeZhen_11/JingDeZhen_11.shp\"\n",
    "sh_file = \"/home/zhizizhang/Documents/Mask_RCNN/gisdata/JingDeZhen_02/JingDeZhen02_shp.shp\"\n",
    "\n",
    "data = gpd.read_file(sh_file)#读取磁盘上的矢量文件 shp\n"
   ]
  },
  {
   "cell_type": "code",
   "execution_count": 210,
   "id": "72270188",
   "metadata": {},
   "outputs": [],
   "source": [
    "dataBounds = data.total_bounds\n",
    "imgShape = mat.shape\n",
    "miniShape = (int(imgShape[0]/10),int(imgShape[1]/10),imgShape[2])"
   ]
  },
  {
   "cell_type": "code",
   "execution_count": 211,
   "id": "cbc65f42",
   "metadata": {},
   "outputs": [],
   "source": [
    "def trans2xy(pos,imgShape,dataBounds):\n",
    "\tlon=pos[0]\n",
    "\tlat=pos[1]\n",
    "\theight = imgShape[0]-1 #图像高\n",
    "\twidth = imgShape[1]-1 #图像宽\n",
    "\t(minLon,minLat,maxLon,maxLat) = dataBounds\n",
    "\tscaleX = ((maxLon-minLon) * 360000) / width #X轴上每像素代表的经度秒数；\n",
    "\tscaleY =  ((maxLat-minLat) * 360000) / height #Y轴上每像素代表的经度秒数；\n",
    "\tscreenX = (lon-minLon) * 360000 / scaleX\n",
    "\tscreenY = (maxLat-lat) * 360000 / scaleY\n",
    "\treturn (int(screenX),int(screenY))"
   ]
  },
  {
   "cell_type": "code",
   "execution_count": 212,
   "id": "08075e17",
   "metadata": {},
   "outputs": [],
   "source": [
    "import json\n",
    "# data.to_file('test.json', driver='GeoJSON', encoding=\"utf-8\")\n",
    "sdata=data.to_json()\n",
    "jsondata=json.loads(sdata)\n",
    "\n",
    "# print(type(jsondata))\n",
    "# print(jdata['features'][490])\n",
    "# jsondata['features'][491]"
   ]
  },
  {
   "cell_type": "code",
   "execution_count": 213,
   "id": "e5edbb82",
   "metadata": {},
   "outputs": [
    {
     "data": {
      "text/plain": [
       "(21004, 14004, 3)"
      ]
     },
     "execution_count": 213,
     "metadata": {},
     "output_type": "execute_result"
    }
   ],
   "source": [
    "jsondata['features'][491]['geometry']['coordinates'][0]   # 第一个0 代表第一段 ，第二个0 代表第一个点\n",
    "imgShape"
   ]
  },
  {
   "cell_type": "markdown",
   "id": "48779e5d",
   "metadata": {},
   "source": [
    "## 经纬度转像素"
   ]
  },
  {
   "cell_type": "code",
   "execution_count": 214,
   "id": "5b0238a0",
   "metadata": {},
   "outputs": [],
   "source": [
    "pixeldata=jsondata\n",
    "for idf,region in enumerate(jsondata['features']):\n",
    "    if region['geometry']!=None:\n",
    "        for idp,point in enumerate(region['geometry']['coordinates'][0]):\n",
    "            pixeldata['features'][idf]['geometry']['coordinates'][0][idp]=trans2xy(point,imgShape,dataBounds)\n",
    "            "
   ]
  },
  {
   "cell_type": "markdown",
   "id": "2b64f282",
   "metadata": {},
   "source": [
    "## 图像切割并调整point"
   ]
  },
  {
   "cell_type": "code",
   "execution_count": 215,
   "id": "41e01a88",
   "metadata": {},
   "outputs": [],
   "source": [
    "import os\n",
    "output_DIR = './../../datasets/segBuildings/'\n",
    "os.makedirs(output_DIR, exist_ok=True)\n",
    "\n",
    "for idf,region in enumerate(pixeldata['features']):\n",
    "    if region['geometry']!=None:\n",
    "        #计算每个region区域并切割图像\n",
    "        regionPoints = region['geometry']['coordinates'][0]\n",
    "        (minX,maxY) = (min(regionPoints,key=lambda tup:tup[0])[0],max(regionPoints,key=lambda tup:tup[1])[1])\n",
    "        (maxX,minY) = (max(regionPoints,key=lambda tup:tup[0])[0],min(regionPoints,key=lambda tup:tup[1])[1])\n",
    "\n",
    "        # 扩展边界\n",
    "        padding = 250\n",
    "        minX = minX-padding if minX>=padding else minX\n",
    "        minY = minY-padding if minY>=padding else minY\n",
    "        maxX = maxX+padding if maxX<imgShape[1] -padding else maxX\n",
    "        maxY = maxY+padding if maxY<imgShape[0] -padding else maxY\n",
    "         \n",
    "        pic_slice=mat[minY:maxY,minX:maxX,:]\n",
    "        \n",
    "        # 保持切片\n",
    "        io.imsave(output_DIR+str(idf)+'.jpg',pic_slice)\n",
    "        \n",
    "        #更新json信息\n",
    "        #添加 img = [image_name]\n",
    "        pixeldata['features'][idf]['img']=str(idf)+'.jpg'\n",
    "        \n",
    "        # 当前区域所有左边转换为切片零点\n",
    "        if region['geometry']!=None:\n",
    "            for idp,point in enumerate(region['geometry']['coordinates'][0]):\n",
    "                cp=pixeldata['features'][idf]['geometry']['coordinates'][0][idp]\n",
    "                pixeldata['features'][idf]['geometry']['coordinates'][0][idp]=(cp[0]-minX + padding,cp[1]-minY + padding)\n",
    "                "
   ]
  },
  {
   "cell_type": "markdown",
   "id": "0ad8ac07",
   "metadata": {},
   "source": [
    "## 保存JSON"
   ]
  },
  {
   "cell_type": "code",
   "execution_count": 216,
   "id": "835278cc",
   "metadata": {},
   "outputs": [],
   "source": [
    "with open(output_DIR+\"annotation.json\",'w',encoding='utf-8') as json_file:\n",
    "        json.dump(pixeldata,json_file,ensure_ascii=False)"
   ]
  },
  {
   "cell_type": "markdown",
   "id": "30eaeb00",
   "metadata": {},
   "source": [
    "## 调试备用代码，shp json文件读取与保存"
   ]
  },
  {
   "cell_type": "code",
   "execution_count": 217,
   "id": "e83b3820",
   "metadata": {},
   "outputs": [],
   "source": [
    "## 字典 保存为json\n",
    "# with open(\"./test.json\",'w',encoding='utf-8') as json_file:\n",
    "#         json.dump(pixeldata,json_file,ensure_ascii=False)\n",
    "\n",
    "## shp保存为json\n",
    "# data.to_file('test.json', driver='GeoJSON', encoding=\"utf-8\")\n"
   ]
  },
  {
   "cell_type": "code",
   "execution_count": 218,
   "id": "a75b505a",
   "metadata": {},
   "outputs": [],
   "source": [
    "## json 读取为 geopands\n",
    "# shp = gpd.read_file('test.json')\n",
    "# dd=shp.drop(['id'],axis=1)\n",
    "# dd"
   ]
  },
  {
   "cell_type": "code",
   "execution_count": null,
   "id": "ddf48e10",
   "metadata": {},
   "outputs": [],
   "source": []
  },
  {
   "cell_type": "code",
   "execution_count": null,
   "id": "71cef90c",
   "metadata": {},
   "outputs": [],
   "source": []
  },
  {
   "cell_type": "code",
   "execution_count": null,
   "id": "aeb5ca09",
   "metadata": {},
   "outputs": [],
   "source": []
  }
 ],
 "metadata": {
  "kernelspec": {
   "display_name": "Python [conda env:mask]",
   "language": "python",
   "name": "conda-env-mask-py"
  },
  "language_info": {
   "codemirror_mode": {
    "name": "ipython",
    "version": 3
   },
   "file_extension": ".py",
   "mimetype": "text/x-python",
   "name": "python",
   "nbconvert_exporter": "python",
   "pygments_lexer": "ipython3",
   "version": "3.6.13"
  }
 },
 "nbformat": 4,
 "nbformat_minor": 5
}
